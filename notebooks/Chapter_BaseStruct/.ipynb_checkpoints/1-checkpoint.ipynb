{
 "cells": [
  {
   "cell_type": "markdown",
   "metadata": {},
   "source": [
    "# 第一章 基本数据结构\n",
    "\n",
    "## int, bool, string"
   ]
  },
  {
   "cell_type": "code",
   "execution_count": 1,
   "metadata": {},
   "outputs": [
    {
     "data": {
      "text/plain": [
       "10, false, This is string"
      ]
     },
     "metadata": {},
     "output_type": "display_data"
    }
   ],
   "source": [
    "let number: int = 10\n",
    "let bool: bool = false\n",
    "let str: string = \"This is string\"\n",
    "\n",
    "printf \"%d, %b, %s\" number bool str"
   ]
  },
  {
   "cell_type": "markdown",
   "metadata": {},
   "source": [
    "## Tuples - 多值合一"
   ]
  },
  {
   "cell_type": "code",
   "execution_count": 2,
   "metadata": {},
   "outputs": [],
   "source": [
    "let t: (int * string) = (1, \"hello\")"
   ]
  },
  {
   "cell_type": "markdown",
   "metadata": {},
   "source": [
    "## List - 列表，同类型静态序列"
   ]
  },
  {
   "cell_type": "code",
   "execution_count": 3,
   "metadata": {},
   "outputs": [],
   "source": [
    "let l1: list<int> = [1; 2;]\n",
    "let l2: list<string> = [\n",
    "    \"list can be split\"\n",
    "    \"by new line\"\n",
    "]\n",
    "let l3: bool list = [true; false;]"
   ]
  },
  {
   "cell_type": "markdown",
   "metadata": {},
   "source": [
    "分号的作用相当于代替new line"
   ]
  },
  {
   "cell_type": "markdown",
   "metadata": {},
   "source": [
    "## Array - 数组，定长，同类型动态序列"
   ]
  },
  {
   "cell_type": "code",
   "execution_count": 4,
   "metadata": {
    "scrolled": true
   },
   "outputs": [
    {
     "data": {
      "text/plain": [
       "[|1; 2|]"
      ]
     },
     "execution_count": 4,
     "metadata": {},
     "output_type": "execute_result"
    }
   ],
   "source": [
    "let a1: array<int> = [|1; 2;|]\n",
    "let a2: bool[] = [| true; false; |]\n",
    "a1"
   ]
  },
  {
   "cell_type": "markdown",
   "metadata": {},
   "source": [
    "多维数组"
   ]
  },
  {
   "cell_type": "code",
   "execution_count": 5,
   "metadata": {},
   "outputs": [
    {
     "data": {
      "text/plain": [
       "[[0; 1; 2; 3]\n",
       " [4; 5; 6; 7]]"
      ]
     },
     "execution_count": 5,
     "metadata": {},
     "output_type": "execute_result"
    }
   ],
   "source": [
    "let b: int[,] =  array2D [ [|0..3|] ; [|4..7|] ]\n",
    "b"
   ]
  },
  {
   "cell_type": "markdown",
   "metadata": {},
   "source": [
    "修改数组"
   ]
  },
  {
   "cell_type": "code",
   "execution_count": 6,
   "metadata": {},
   "outputs": [
    {
     "data": {
      "text/plain": [
       "[|4; 2|]"
      ]
     },
     "execution_count": 6,
     "metadata": {},
     "output_type": "execute_result"
    }
   ],
   "source": [
    "a1.[0] <- 4\n",
    "a1"
   ]
  },
  {
   "cell_type": "markdown",
   "metadata": {},
   "source": [
    "## Seq - 序列，同类型元素的排列"
   ]
  },
  {
   "cell_type": "code",
   "execution_count": 7,
   "metadata": {},
   "outputs": [],
   "source": [
    "let seq1: seq<int> = seq { 1; 2; }"
   ]
  },
  {
   "cell_type": "markdown",
   "metadata": {},
   "source": [
    "## Record - 记录，类型先行的属性集合"
   ]
  },
  {
   "cell_type": "code",
   "execution_count": 8,
   "metadata": {
    "scrolled": true
   },
   "outputs": [
    {
     "data": {
      "text/plain": [
       "{ X = 1.0\n",
       "  Y = 1.0\n",
       "  Z = -1.0 }"
      ]
     },
     "execution_count": 8,
     "metadata": {},
     "output_type": "execute_result"
    }
   ],
   "source": [
    "type Point = { X: float; Y: float; Z: float; }\n",
    "\n",
    "let mypoint = { X = 1.0; Y = 1.0; Z = -1.0; }\n",
    "mypoint"
   ]
  },
  {
   "cell_type": "markdown",
   "metadata": {},
   "source": [
    "F#的record默认是引用类型，可以使用`[<Struct>]`创建结构类型"
   ]
  },
  {
   "cell_type": "code",
   "execution_count": 9,
   "metadata": {},
   "outputs": [],
   "source": [
    "[<Struct>]\n",
    "type StructPoint = \n",
    "    { X: float\n",
    "      Y: float\n",
    "      Z: float }"
   ]
  },
  {
   "cell_type": "markdown",
   "metadata": {},
   "source": [
    "复制一个record并更改某个属性"
   ]
  },
  {
   "cell_type": "code",
   "execution_count": 10,
   "metadata": {},
   "outputs": [
    {
     "data": {
      "text/plain": [
       "{ X = 1.0\n",
       "  Y = 100.0\n",
       "  Z = 2.0 }"
      ]
     },
     "execution_count": 10,
     "metadata": {},
     "output_type": "execute_result"
    }
   ],
   "source": [
    "let mypoint2 = { mypoint with Y = 100.0; Z = 2.0 }\n",
    "mypoint2"
   ]
  },
  {
   "cell_type": "markdown",
   "metadata": {},
   "source": [
    "可变记录"
   ]
  },
  {
   "cell_type": "code",
   "execution_count": 11,
   "metadata": {},
   "outputs": [
    {
     "data": {
      "text/plain": [
       "{ Make = \"Fabrikam\"\n",
       "  Model = \"Coupe\"\n",
       "  Odometer = 108133 }"
      ]
     },
     "execution_count": 11,
     "metadata": {},
     "output_type": "execute_result"
    }
   ],
   "source": [
    "type Car = \n",
    "    { Make : string\n",
    "      Model : string\n",
    "      mutable Odometer : int }\n",
    "\n",
    "let myCar = { Make = \"Fabrikam\"; Model = \"Coupe\"; Odometer = 108112 }\n",
    "myCar.Odometer <- myCar.Odometer + 21\n",
    "myCar"
   ]
  },
  {
   "cell_type": "code",
   "execution_count": null,
   "metadata": {},
   "outputs": [],
   "source": []
  }
 ],
 "metadata": {
  "kernelspec": {
   "display_name": "F#",
   "language": "fsharp",
   "name": "ifsharp"
  },
  "language": "fsharp",
  "language_info": {
   "codemirror_mode": "",
   "file_extension": ".fs",
   "mimetype": "text/x-fsharp",
   "name": "fsharp",
   "nbconvert_exporter": "",
   "pygments_lexer": "",
   "version": "4.3.1.0"
  }
 },
 "nbformat": 4,
 "nbformat_minor": 2
}
